{
 "cells": [
  {
   "cell_type": "code",
   "execution_count": 6,
   "metadata": {},
   "outputs": [
    {
     "name": "stdout",
     "output_type": "stream",
     "text": [
      "Lütfen aranankelimeyi giriniz hata\n",
      "did you mean? Adana\n",
      "\n",
      "did you mean? Adıyaman\n",
      "\n",
      "did you mean? Amasya\n",
      "\n",
      "did you mean? Bartın\n",
      "\n",
      "did you mean? Batman\n",
      "\n",
      "did you mean? Bursa\n",
      "\n",
      "did you mean? Elazığ\n",
      "\n",
      "did you mean? Gaziantep\n",
      "\n",
      "did you mean? Hakkari\n",
      "\n",
      "did you mean? Kahramanmaraş\n",
      "\n",
      "did you mean? Kastamonu\n",
      "\n",
      "did you mean? Konya\n",
      "\n",
      "did you mean? Muğla\n",
      "\n",
      "did you mean? Şırnak\n",
      "\n",
      "did you mean? Trabzon\n",
      "\n",
      "did you mean? Yozgat\n",
      "\n"
     ]
    }
   ],
   "source": [
    "def karsilastir(gelen,aranan):\n",
    "    arrayx=list(gelen)\n",
    "    arrayaranan=list(aranan)\n",
    "    sayac=0\n",
    "    if len(gelen)>len(aranan):\n",
    "        for i in range(0,len(aranan)):\n",
    "            if(arrayx[i]==arrayaranan[i]):\n",
    "                sayac=sayac+1\n",
    "            else:\n",
    "                pass\n",
    "    elif len(gelen)<len(aranan):\n",
    "        for i in range(0,len(gelen)):\n",
    "            if(arrayx[i]==arrayaranan[i]):\n",
    "                sayac=sayac+1\n",
    "            else:\n",
    "                pass\n",
    "   \n",
    "if(sayac>0):\n",
    "        print(\"did you mean?\",gelen);\n",
    "        f0=open(\"bulunan.txt\",\"a\",encoding=\"utf-8\")\n",
    "        f0.write(gelen)\n",
    "        f0.close()\n",
    "    if(sayac==0):\n",
    "        pass\n",
    "aranankelime=input(\"Lütfen aranankelimeyi giriniz\")\n",
    "f=open(\"deneme.txt\",encoding=\"utf-8\")\n",
    "f.seek(0)\n",
    "kelimeler=f.readlines()\n",
    "for i in kelimeler:\n",
    "    karsilastir(i,aranankelime)"
   ]
  },
  {
   "cell_type": "code",
   "execution_count": null,
   "metadata": {},
   "outputs": [],
   "source": []
  },
  {
   "cell_type": "code",
   "execution_count": null,
   "metadata": {},
   "outputs": [],
   "source": []
  }
 ],
 "metadata": {
  "kernelspec": {
   "display_name": "Python 3",
   "language": "python",
   "name": "python3"
  },
  "language_info": {
   "codemirror_mode": {
    "name": "ipython",
    "version": 3
   },
   "file_extension": ".py",
   "mimetype": "text/x-python",
   "name": "python",
   "nbconvert_exporter": "python",
   "pygments_lexer": "ipython3",
   "version": "3.7.3"
  }
 },
 "nbformat": 4,
 "nbformat_minor": 2
}
